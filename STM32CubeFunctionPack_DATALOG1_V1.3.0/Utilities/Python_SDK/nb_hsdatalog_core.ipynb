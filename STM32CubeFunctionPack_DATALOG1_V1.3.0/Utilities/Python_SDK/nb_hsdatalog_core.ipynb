{
 "cells": [
  {
   "cell_type": "markdown",
   "metadata": {},
   "source": [
    "# How to use HSDPython_SDK HSD module - \\[CORE Features\\]\n",
    "---\n",
    "<br>\n",
    "<p>Import the HSDatalog module</p>"
   ]
  },
  {
   "cell_type": "code",
   "execution_count": null,
   "metadata": {},
   "outputs": [],
   "source": [
    "from HSD.HSDatalog import HSDatalog"
   ]
  },
  {
   "cell_type": "markdown",
   "metadata": {},
   "source": [
    "Initialize the HSDatalog by passing a valid acquisition folder as a parameter"
   ]
  },
  {
   "cell_type": "code",
   "execution_count": null,
   "metadata": {},
   "outputs": [],
   "source": [
    "acq_folder = \"..\\\\STWIN_acquisition_examples\\\\STWIN_00002\"\n",
    "hsd = HSDatalog(acquisition_folder=acq_folder)"
   ]
  },
  {
   "cell_type": "markdown",
   "metadata": {},
   "source": [
    "HSDatalog allows you to obtain all the information regarding the acquisition and the board that generated it.\n",
    "- You can obtain the list of the available sensors:"
   ]
  },
  {
   "cell_type": "code",
   "execution_count": null,
   "metadata": {},
   "outputs": [],
   "source": [
    "active_sensor_list = hsd.get_sensor_list(only_active=False)\n",
    "hsd.present_sensor_list(active_sensor_list)"
   ]
  },
  {
   "cell_type": "markdown",
   "metadata": {},
   "source": [
    "<p><li> You can obtain the list of the available <b style=\"color:cyan\">ACTIVE</b> sensors:</li></p>"
   ]
  },
  {
   "cell_type": "code",
   "execution_count": null,
   "metadata": {},
   "outputs": [],
   "source": [
    "active_sensor_list = hsd.get_sensor_list(only_active=True)\n",
    "hsd.present_sensor_list(active_sensor_list)"
   ]
  },
  {
   "cell_type": "markdown",
   "metadata": {},
   "source": [
    "You can also obtain the list of the available active sensors filterd by a type (E.g. Microphone):"
   ]
  },
  {
   "cell_type": "code",
   "execution_count": null,
   "metadata": {},
   "outputs": [],
   "source": [
    "mic_list = hsd.get_sensor_list(type_filter=\"MIC\", only_active=True)\n",
    "hsd.present_sensor_list(mic_list)"
   ]
  },
  {
   "cell_type": "markdown",
   "metadata": {},
   "source": [
    "- You can directly access the sensor passing its name to the following function"
   ]
  },
  {
   "cell_type": "code",
   "execution_count": null,
   "metadata": {},
   "outputs": [],
   "source": [
    "sensor_name = \"HTS221\"\n",
    "sensor = hsd.get_sensor(sensor_name)\n",
    "\n",
    "hsd.present_sensor(sensor)"
   ]
  },
  {
   "cell_type": "markdown",
   "metadata": {},
   "source": [
    "For each sensor it is possible to extract all the information regarding current configuration \\[Status\\] and capabilities \\[Descriptor\\]"
   ]
  },
  {
   "cell_type": "code",
   "execution_count": null,
   "metadata": {},
   "outputs": [],
   "source": [
    "print (\"Sensor: {}\".format(sensor.name))\n",
    "\n",
    "s_descriptor_list = sensor.sensor_descriptor.sub_sensor_descriptor\n",
    "s_status_list = sensor.sensor_status.sub_sensor_status\n",
    "\n",
    "for i, s in enumerate(s_descriptor_list):\n",
    "    print(\" --> {} - ODR: {} , FS: {} , SamplesPerTs {}\".format(s.sensor_type,s_status_list[i].odr,s_status_list[i].fs,s_status_list[i].samples_per_ts))"
   ]
  },
  {
   "cell_type": "markdown",
   "metadata": {},
   "source": [
    "You can also get the list of sensor data files in your selected acquisition folder:"
   ]
  },
  {
   "cell_type": "code",
   "execution_count": null,
   "metadata": {},
   "outputs": [],
   "source": [
    "file_names = hsd.get_dat_file_list()\n",
    "print(file_names)"
   ]
  },
  {
   "cell_type": "markdown",
   "metadata": {},
   "source": [
    "Once you have collected all sensors desired parameters, you can extract data from your acquisition:\n",
    "# Data Extraction\n",
    "---\n",
    "## Pandas DataFrame\n",
    "Data are extracted from the acquisition folder as pandas DataFrames. Select a sensor and get a DataFrame as shown below"
   ]
  },
  {
   "cell_type": "code",
   "execution_count": null,
   "metadata": {},
   "outputs": [],
   "source": [
    "sensor_name = \"IIS3DWB\"\n",
    "sensor_type = \"ACC\"\n",
    "df = hsd.get_dataframe(sensor_name, sensor_type)\n",
    "df.describe()"
   ]
  },
  {
   "cell_type": "markdown",
   "metadata": {},
   "source": [
    "If needed you can select a data subset from the acquisition file. It can be useful to limit the amount of data to be analyzed in case of large files. "
   ]
  },
  {
   "cell_type": "code",
   "execution_count": null,
   "metadata": {},
   "outputs": [],
   "source": [
    "df = hsd.get_dataframe(sensor_name, sensor_type, sample_start = 10, sample_end = 20)\n",
    "print(df)\n",
    "df.describe()"
   ]
  },
  {
   "cell_type": "markdown",
   "metadata": {},
   "source": [
    "Add labels column to the exported DataFrame (if the acquisition is labeled)"
   ]
  },
  {
   "cell_type": "code",
   "execution_count": null,
   "metadata": {},
   "outputs": [],
   "source": [
    "df = hsd.get_dataframe(sensor_name, sensor_type, labeled = True)\n",
    "print(df)"
   ]
  },
  {
   "cell_type": "markdown",
   "metadata": {},
   "source": [
    "Raw data selection. Data will not be multiplied by the sensor sensitivity value"
   ]
  },
  {
   "cell_type": "code",
   "execution_count": null,
   "metadata": {},
   "outputs": [],
   "source": [
    "df = hsd.get_dataframe(sensor_name, sensor_type, raw_flag = True)\n",
    "print(df)\n",
    "df.describe()"
   ]
  },
  {
   "cell_type": "markdown",
   "metadata": {},
   "source": [
    "# Plot\n",
    "---\n",
    "Using the HSDatalog core module it is also possible to visualize the data of an acquisition as follows\n",
    "- You can plot one the data of a specific sensor:"
   ]
  },
  {
   "cell_type": "code",
   "execution_count": null,
   "metadata": {},
   "outputs": [],
   "source": [
    "import matplotlib.pyplot as plt\n",
    "sensor_name = \"IIS3DWB\"\n",
    "sensor_type = \"ACC\"\n",
    "\n",
    "hsd.get_sensor_plot(sensor_name, sensor_type)"
   ]
  },
  {
   "cell_type": "markdown",
   "metadata": {},
   "source": [
    "- or those of all sensors in the acquisition:"
   ]
  },
  {
   "cell_type": "code",
   "execution_count": null,
   "metadata": {},
   "outputs": [],
   "source": [
    "active_sensor_list = hsd.get_sensor_list(only_active=True)\n",
    "\n",
    "plots = []\n",
    "for s in active_sensor_list:\n",
    "    for ssd in s.sensor_descriptor.sub_sensor_descriptor:\n",
    "        hsd.get_sensor_plot(s.name, ssd.sensor_type)"
   ]
  },
  {
   "cell_type": "markdown",
   "metadata": {},
   "source": [
    "The module provides a set of options to personalize the plots\n",
    "- It is possible to limit the plot to a specific samples interval"
   ]
  },
  {
   "cell_type": "code",
   "execution_count": null,
   "metadata": {},
   "outputs": [],
   "source": [
    "sensor_name = \"IIS3DWB\"\n",
    "sensor_type = \"ACC\"\n",
    "\n",
    "hsd.get_sensor_plot(sensor_name, sensor_type, sample_start=50000, sample_end=100000)"
   ]
  },
  {
   "cell_type": "markdown",
   "metadata": {},
   "source": [
    "- To display data annotations (acquisition must be annotated)"
   ]
  },
  {
   "cell_type": "code",
   "execution_count": null,
   "metadata": {},
   "outputs": [],
   "source": [
    "label_list = hsd.get_acquisition_label_classes()\n",
    "print(label_list)\n",
    "\n",
    "sensor_name = \"HTS221\"\n",
    "sensor_type = \"TEMP\"\n",
    "hsd.get_sensor_plot(sensor_name, sensor_type, label='SW_TAG_0')\n",
    "hsd.get_sensor_plot(sensor_name, sensor_type, label='SW_TAG_2')\n"
   ]
  },
  {
   "cell_type": "markdown",
   "metadata": {},
   "source": [
    "- To display a sub-plot for each dimension, in case of multidimensional sensors"
   ]
  },
  {
   "cell_type": "code",
   "execution_count": null,
   "metadata": {},
   "outputs": [],
   "source": [
    "sensor_name = \"ISM330DHCX\"\n",
    "sensor_type = \"GYRO\"\n",
    "hsd.get_sensor_plot(sensor_name, sensor_type, subplots=True)"
   ]
  },
  {
   "cell_type": "markdown",
   "metadata": {},
   "source": [
    "- To display data annotations also in case of  multidimensional plots"
   ]
  },
  {
   "cell_type": "code",
   "execution_count": null,
   "metadata": {},
   "outputs": [],
   "source": [
    "sensor_name = \"ISM330DHCX\"\n",
    "sensor_type = \"GYRO\"\n",
    "hsd.get_sensor_plot(sensor_name, sensor_type, label='SW_TAG_2', subplots=True)"
   ]
  },
  {
   "cell_type": "markdown",
   "metadata": {},
   "source": [
    "- To show raw data (not multiplied by sensitivity)"
   ]
  },
  {
   "cell_type": "code",
   "execution_count": null,
   "metadata": {},
   "outputs": [],
   "source": [
    "sensor_name = \"IIS3DWB\"\n",
    "sensor_type = \"ACC\"\n",
    "\n",
    "sensor = hsd.get_sensor(sensor_name)\n",
    "sensor_sensitivity = sensor.sensor_status.sub_sensor_status[0].sensitivity\n",
    "print(\"sensitivity: {}\".format(sensor_sensitivity))\n",
    "\n",
    "hsd.get_sensor_plot(sensor.name, sensor_type, raw_flag=True)"
   ]
  }
 ],
 "metadata": {
  "interpreter": {
   "hash": "f39de2a8f528efb1892582061aeb4a23890266a1652fa965394c610d6bc928c5"
  },
  "kernelspec": {
   "display_name": "Python 3.9.5 64-bit ('.venv': venv)",
   "name": "python3"
  },
  "language_info": {
   "codemirror_mode": {
    "name": "ipython",
    "version": 3
   },
   "file_extension": ".py",
   "mimetype": "text/x-python",
   "name": "python",
   "nbconvert_exporter": "python",
   "pygments_lexer": "ipython3",
   "version": "3.9.5"
  },
  "orig_nbformat": 2
 },
 "nbformat": 4,
 "nbformat_minor": 2
}
