{
 "cells": [
  {
   "cell_type": "markdown",
   "metadata": {},
   "source": [
    "# How to use HSDPython_SDK HSD_link module - \\[Communication Features\\]\n",
    "---\n",
    "<br>\n",
    "<p>Connect a HSDatalog compatible device, then import the HSD_link module.</p>\n",
    "<p>Using this module with a connected device you will be able to:</p>\n",
    "<ul>\n",
    "<li>retrieve configuration details (both capabilities and current setting)</li>\n",
    "<li>update device sensors parameters</li>\n",
    "<li>control an acquisition saving sensor data transfered</li>\n",
    "<li>annotate real-time acquisitions</li>\n",
    "</ul>"
   ]
  },
  {
   "cell_type": "code",
   "execution_count": null,
   "metadata": {},
   "outputs": [],
   "source": [
    "from HSD_link.HSDLink import HSDLink"
   ]
  },
  {
   "cell_type": "markdown",
   "metadata": {},
   "source": [
    "Initialize the HSD_link module with a specific device command set. 'stwin_hsd' string is used to create the right CommandManager internally."
   ]
  },
  {
   "cell_type": "code",
   "execution_count": null,
   "metadata": {},
   "outputs": [],
   "source": [
    "hsd_link = HSDLink(\"stwin_hsd\")"
   ]
  },
  {
   "cell_type": "markdown",
   "metadata": {},
   "source": [
    "\"stwin_hsd\" USB communication is based on a DLL which guarantees stable and robust communication at very high speeds.\n",
    "<p>To get DLL version:</p>"
   ]
  },
  {
   "cell_type": "code",
   "execution_count": null,
   "metadata": {},
   "outputs": [],
   "source": [
    "print(hsd_link.get_version())"
   ]
  },
  {
   "cell_type": "markdown",
   "metadata": {},
   "source": [
    "<p>This communication framework allow you to interact with a connected device using commands that could be grouped by several different types:</p>\n",
    "<h2>GET commands</h2>\n",
    "<hr>\n",
    "<p>You can obtain easily the list of all connected Devices</p>"
   ]
  },
  {
   "cell_type": "code",
   "execution_count": null,
   "metadata": {},
   "outputs": [],
   "source": [
    "dev_list = hsd_link.get_devices()\n",
    "for dev in dev_list:\n",
    "    print(dev.device_info.alias)"
   ]
  },
  {
   "cell_type": "markdown",
   "metadata": {},
   "source": [
    "Or select a specific one"
   ]
  },
  {
   "cell_type": "code",
   "execution_count": null,
   "metadata": {},
   "outputs": [],
   "source": [
    "device_id = 0\n",
    "device = hsd_link.get_device(device_id)\n",
    "print(dev.device_info.alias)"
   ]
  },
  {
   "cell_type": "markdown",
   "metadata": {},
   "source": [
    "Create a new HSDatalog to store the device model obtained from the physical board.\n",
    "<p><i>* All operations in this notebook can also be performed without using this <b style=\"color:cyan\">[HSDatalog]</b> object, which however makes it easier to perform some tasks</i></p>"
   ]
  },
  {
   "cell_type": "code",
   "execution_count": null,
   "metadata": {},
   "outputs": [],
   "source": [
    "from HSD.HSDatalog import HSDatalog\n",
    "hsd = HSDatalog()\n",
    "hsd.set_device(device)"
   ]
  },
  {
   "cell_type": "markdown",
   "metadata": {},
   "source": [
    "A list of high-level information could be retrieved from the device model obtained\n",
    "<p>Or the same thing can be done using the <b style=\"color:cyan\">[HSDatalog]</b> object </p>"
   ]
  },
  {
   "cell_type": "code",
   "execution_count": null,
   "metadata": {},
   "outputs": [],
   "source": [
    "device_info = device.device_info\n",
    "device_info = hsd.get_device_info()\n",
    "hsd.present_device_info(device_info)"
   ]
  },
  {
   "cell_type": "markdown",
   "metadata": {},
   "source": [
    "The list of sensors configuration can be obtained directly from the connected device and filtered by two parameters: the activation status and the sensor type.\n",
    "<p><li> <u>Only active sensors</u> (<b style=\"color:cyan\">[HSDatalog]</b> utility function is used to present the sensor list): </p>"
   ]
  },
  {
   "cell_type": "code",
   "execution_count": null,
   "metadata": {
    "tags": []
   },
   "outputs": [],
   "source": [
    "sensor_list = hsd_link.get_sub_sensors(d_id = 0)\n",
    "hsd.present_sensor_list(sensor_list)"
   ]
  },
  {
   "cell_type": "markdown",
   "metadata": {},
   "source": [
    "<p><li><u>All sensors</u>, even those not active (<b style=\"color:cyan\">[HSDatalog]</b> utility function is used to present the sensor list): </p>"
   ]
  },
  {
   "cell_type": "code",
   "execution_count": null,
   "metadata": {},
   "outputs": [],
   "source": [
    "sensor_list = hsd_link.get_sub_sensors(d_id = 0, only_active=False)\n",
    "hsd.present_sensor_list(sensor_list)"
   ]
  },
  {
   "cell_type": "markdown",
   "metadata": {},
   "source": [
    "<p><li><u>Active sensors filtered by a specific type</u> (e.g. MIC) (<b style=\"color:cyan\">[HSDatalog]</b> utility function is used to present the sensor list): </p>"
   ]
  },
  {
   "cell_type": "code",
   "execution_count": null,
   "metadata": {},
   "outputs": [],
   "source": [
    "sensor_list = hsd_link.get_sub_sensors(d_id = 0, type_filter=\"MIC\")\n",
    "hsd.present_sensor_list(sensor_list)"
   ]
  },
  {
   "cell_type": "markdown",
   "metadata": {},
   "source": [
    "<p>Sensors configuration list can also be extracted from the previously retrieved Device object using the <b style=\"color:cyan\">[HSDatalog]</b> object</p>"
   ]
  },
  {
   "cell_type": "code",
   "execution_count": null,
   "metadata": {},
   "outputs": [],
   "source": [
    "sensor_list = hsd.get_sensor_list(type_filter=\"ACC\")\n",
    "hsd.present_sensor_list(sensor_list)"
   ]
  },
  {
   "cell_type": "markdown",
   "metadata": {},
   "source": [
    "\n",
    "<p>It is also possible to directly select a specific sensor from the device model using the <b style=\"color:cyan\">[HSDatalog]</b> object. For each sensor, it is possible to obtain descriptor and status parameters</p>"
   ]
  },
  {
   "cell_type": "code",
   "execution_count": null,
   "metadata": {},
   "outputs": [],
   "source": [
    "sensor_name = \"ISM330DHCX\"\n",
    "sensor = hsd.get_sensor(sensor_name)\n",
    "hsd.present_sensor(sensor)"
   ]
  },
  {
   "cell_type": "markdown",
   "metadata": {},
   "source": [
    "And from a specific sub sensor to extract specific parameters:"
   ]
  },
  {
   "cell_type": "code",
   "execution_count": null,
   "metadata": {},
   "outputs": [],
   "source": [
    "print(\"SensorName: {}\".format(hsd_link.get_sensor_name(d_id = 0, s_id = 0)))\n",
    "print(\"SubSensorType: {}\".format(hsd_link.get_sub_sensor_type(d_id = 0, s_id = 0, ss_id = 0)))\n",
    "print(\"isActive: {}\".format(hsd_link.get_sub_sensor_isActive(d_id = 0, s_id = 0, ss_id = 0)))\n",
    "print(\"ODR: {}\".format(hsd_link.get_sub_sensor_odr(d_id = 0, s_id = 0, ss_id = 0)))\n",
    "print(\"FS: {}\".format(hsd_link.get_sub_sensor_fs(d_id = 0, s_id = 0, ss_id = 0)))\n",
    "print(\"SamplePerTimestamp: {}\".format(hsd_link.get_sub_sensor_sample_per_ts(d_id = 0, s_id = 0, ss_id = 0)))"
   ]
  },
  {
   "cell_type": "markdown",
   "metadata": {},
   "source": [
    "<p>In addiction you can get other information about available Tag classes in FW:</p>\n",
    "<li><u>SW Tag</u> classes"
   ]
  },
  {
   "cell_type": "code",
   "execution_count": null,
   "metadata": {},
   "outputs": [],
   "source": [
    "sw_tag_classes = hsd_link.get_sw_tag_classes(d_id = 0)\n",
    "hsd.present_sw_tag_classes(sw_tag_classes)"
   ]
  },
  {
   "cell_type": "markdown",
   "metadata": {},
   "source": [
    "<p><li><u>HW Tag</u> classes</p>"
   ]
  },
  {
   "cell_type": "code",
   "execution_count": null,
   "metadata": {},
   "outputs": [],
   "source": [
    "hw_tag_classes = hsd_link.get_hw_tag_classes(d_id = 0)\n",
    "hsd.present_hw_tag_classes(hw_tag_classes)"
   ]
  },
  {
   "cell_type": "markdown",
   "metadata": {},
   "source": [
    "<li><u>Maximum number of annotations</u> supported per single acquisition</li>"
   ]
  },
  {
   "cell_type": "code",
   "execution_count": null,
   "metadata": {},
   "outputs": [],
   "source": [
    "max_tag_per_acq = hsd_link.get_max_tags_per_acq(d_id = 0)\n",
    "print(\"Max tags per acquisition: {}\".format(max_tag_per_acq))"
   ]
  },
  {
   "cell_type": "markdown",
   "metadata": {},
   "source": [
    "<h2>SET Commands\n",
    "<hr>"
   ]
  },
  {
   "cell_type": "markdown",
   "metadata": {},
   "source": [
    "SET single sensor parameter:"
   ]
  },
  {
   "cell_type": "code",
   "execution_count": null,
   "metadata": {},
   "outputs": [],
   "source": [
    "print(\"SensorName: {}\".format(hsd_link.get_sensor_name(d_id = 0, s_id = 5)))\n",
    "print(\"SubSensorType: {}\".format(hsd_link.get_sub_sensor_type(d_id = 0, s_id = 5, ss_id = 0)))\n",
    "print(\"--> SET isActive = True\")\n",
    "hsd_link.set_sub_sensor_active(d_id = 0, s_id = 5, ss_id = 0, new_status = True)\n",
    "print(\"isActive: {}\".format(hsd_link.get_sub_sensor_isActive(d_id = 0, s_id = 5, ss_id = 0)))\n",
    "print(\"--> SET ODR = 3332.0\")\n",
    "hsd_link.set_sub_sensor_odr(d_id = 0, s_id = 5, ss_id = 0, odr_value = 3332.0)\n",
    "print(\"ODR: {}\".format(hsd_link.get_sub_sensor_odr(d_id = 0, s_id = 5, ss_id = 0)))\n",
    "print(\"--> SET FS = 4.0\")\n",
    "hsd_link.set_sub_sensor_fs(d_id = 0, s_id = 5, ss_id = 0, fs_value = 4.0)\n",
    "print(\"FS: {}\".format(hsd_link.get_sub_sensor_fs(d_id = 0, s_id = 5, ss_id = 0)))\n",
    "print(\"--> SET SamplePerTimestamp = 1000: {}\")\n",
    "hsd_link.set_samples_per_timestamp(d_id = 0, s_id = 5, ss_id = 0, spts_value=1000)\n",
    "print(\"SamplePerTimestamp: {}\".format(hsd_link.get_sub_sensor_sample_per_ts(d_id = 0, s_id = 5, ss_id = 0)))"
   ]
  },
  {
   "cell_type": "markdown",
   "metadata": {},
   "source": [
    "Upload an ucf file to configure a MLC sensor (also if it isn't enabled)"
   ]
  },
  {
   "cell_type": "code",
   "execution_count": null,
   "metadata": {},
   "outputs": [],
   "source": [
    "ucf_file_path = \"..\\\\STWIN_config_examples\\\\UCF_examples\\\\ism330dhcx_six_d_position.ucf\"\n",
    "sensor_list = hsd_link.get_sub_sensors(d_id = 0, only_active=False, type_filter=\"MLC\")\n",
    "mlc_id = -1\n",
    "for sensor in sensor_list:\n",
    "    for ssd in sensor.sensor_descriptor.sub_sensor_descriptor:\n",
    "        mlc_id = ssd.id\n",
    "        break\n",
    "hsd_link.upload_mlc_ucf_file(d_id = 0, s_id = mlc_id, ucf_file_path = ucf_file_path)"
   ]
  },
  {
   "cell_type": "markdown",
   "metadata": {},
   "source": [
    "Device configuration update from JSON file"
   ]
  },
  {
   "cell_type": "code",
   "execution_count": null,
   "metadata": {},
   "outputs": [],
   "source": [
    "json_file_path = \"..\\\\STWIN_config_examples\\\\EnvSensors.json\"\n",
    "hsd_link.update_device(0,json_file_path)\n",
    "sensor_list = hsd_link.get_sub_sensors(d_id = 0, only_active=False)\n",
    "hsd.present_sensor_list(sensor_list)"
   ]
  },
  {
   "cell_type": "markdown",
   "metadata": {},
   "source": [
    "Set next acquisition name and description"
   ]
  },
  {
   "cell_type": "code",
   "execution_count": null,
   "metadata": {},
   "outputs": [],
   "source": [
    "hsd_link.set_acquisition_info(0,\"acq_name_00\",\"acq_notes_00\")"
   ]
  },
  {
   "cell_type": "markdown",
   "metadata": {},
   "source": [
    "Configure HW Tags (label and activation status)"
   ]
  },
  {
   "cell_type": "code",
   "execution_count": null,
   "metadata": {},
   "outputs": [],
   "source": [
    "hw_tag_classed = hsd_link.get_hw_tag_classes(d_id = 0)\n",
    "print(hw_tag_classed)\n",
    "hsd_link.set_hw_tag_disabled(d_id = 0 , t_id = 0)\n",
    "hsd_link.set_hw_tag_label(d_id = 0 , t_id = 0 , label= \"Running\")\n",
    "hw_tag_classed = hsd_link.get_hw_tag_classes(d_id = 0)\n",
    "print(hw_tag_classed)"
   ]
  },
  {
   "cell_type": "markdown",
   "metadata": {},
   "source": [
    "Configure SW Tags labels"
   ]
  },
  {
   "cell_type": "code",
   "execution_count": null,
   "metadata": {},
   "outputs": [],
   "source": [
    "sw_tag_classed = hsd_link.get_sw_tag_classes(d_id = 0)\n",
    "print(sw_tag_classed)\n",
    "hsd_link.set_sw_tag_label(d_id = 0 , t_id = 0 , label= \"Walking\")\n",
    "sw_tag_classed = hsd_link.get_sw_tag_classes(d_id = 0)\n",
    "print(sw_tag_classed)"
   ]
  },
  {
   "cell_type": "markdown",
   "metadata": {},
   "source": [
    "<h2>LOG CONTROL Commands </h2>\n",
    "<hr>"
   ]
  },
  {
   "cell_type": "markdown",
   "metadata": {},
   "source": [
    "Once the configuration phase is concluded, you can start the acquisition process with the following command"
   ]
  },
  {
   "cell_type": "code",
   "execution_count": null,
   "metadata": {},
   "outputs": [],
   "source": [
    "hsd_link.start_log(0)"
   ]
  },
  {
   "cell_type": "markdown",
   "metadata": {},
   "source": [
    "With an acquisition in progress, you can get sensor data with for each active sensors.\n",
    "<p><i>* In the following code cell we provide a possible implementation to retrieve data from the \"HTS221\" sensor and save them in the acquisition folder \n",
    "Data are acquired for 15 seconds. To show the data flow, we plot them in hexadecimal.</i></p>"
   ]
  },
  {
   "cell_type": "code",
   "execution_count": null,
   "metadata": {
    "tags": []
   },
   "outputs": [],
   "source": [
    "import time\n",
    "import os\n",
    "from threading import Thread, Event\n",
    "\n",
    "class SensorAcquisitionThread(Thread):\n",
    "        def __init__(self, event, d_id, s_id, ss_id, sensor_data_file):\n",
    "            Thread.__init__(self)\n",
    "            self.stopped = event\n",
    "            self.d_id = d_id\n",
    "            self.s_id = s_id\n",
    "            self.ss_id = ss_id\n",
    "            self.sensor_data_file = sensor_data_file\n",
    "            self.data_counter = 0\n",
    "\n",
    "        def run(self):\n",
    "            while not self.stopped.wait(0.1):\n",
    "                sensor_data = hsd_link.get_sensor_data(self.d_id, self.s_id, self.ss_id)\n",
    "                if sensor_data is not None:\n",
    "                    res = self.sensor_data_file.write(sensor_data[1])\n",
    "                    self.data_counter += sensor_data[0]\n",
    "                    print(\"{} Bytes written in {}\\n\".format(self.data_counter, self.sensor_data_file.name))\n",
    "\n",
    "sensor_list = hsd_link.get_sub_sensors(d_id = 0)\n",
    "threads_stop_flags = []\n",
    "sensor_data_files = []\n",
    "\n",
    "for sensor in sensor_list:\n",
    "    for i, ssd in enumerate(sensor.sensor_descriptor.sub_sensor_descriptor):\n",
    "        if sensor.sensor_status.sub_sensor_status[i].is_active:\n",
    "            sensor_data_file_path = os.path.join(hsd_link.get_acquisition_folder(),(\"{}_{}.dat\".format(sensor.name,ssd.sensor_type)))\n",
    "            sensor_data_file = open(sensor_data_file_path, \"wb+\")\n",
    "            sensor_data_files.append(sensor_data_file)\n",
    "            stopFlag = Event()\n",
    "            threads_stop_flags.append(stopFlag)\n",
    "            thread = SensorAcquisitionThread(stopFlag, 0, sensor.id, ssd.id, sensor_data_file)\n",
    "            thread.start()\n",
    "        else:\n",
    "            print(\"--> (!) Sensor {}_{} is not active\".format(sensor.name,ssd.sensor_type))\n",
    "\n",
    "time.sleep(15)\n",
    "for sf in threads_stop_flags:\n",
    "    sf.set()\n",
    "for f in sensor_data_files:\n",
    "    f.close()"
   ]
  },
  {
   "cell_type": "markdown",
   "metadata": {},
   "source": [
    "Tag an acquisition in progress. (3 seconds of \"SW_Tag_0\" redefinded before as \"Walking\", followed by 3 seconds of \"SW_Tag_1\")"
   ]
  },
  {
   "cell_type": "code",
   "execution_count": null,
   "metadata": {},
   "outputs": [],
   "source": [
    "hsd_link.set_sw_tag_on(0,0)\n",
    "time.sleep(3)\n",
    "hsd_link.set_sw_tag_off(0,0)\n",
    "hsd_link.set_sw_tag_on(0,1)\n",
    "time.sleep(3)\n",
    "hsd_link.set_sw_tag_off(0,1)"
   ]
  },
  {
   "cell_type": "markdown",
   "metadata": {},
   "source": [
    "<p>To stop the process and save all necessary acquisition files in the right folder, you have to launch the following commands.</p>\n",
    "<p>In addition to sensor data files(.dat), the following JSON files will also be saved in the acquisitino folder:</p>\n",
    "<li>Device configuration file <b>[DeviceConfig.json]</b> containing a complete device capability description and the current device status snapshot</li>\n",
    "<li>Acquisition info file <b>[AcquisitionInfo.json]</b> containing a list of all annotations taken during the acquisition process</li>\n",
    "<br>\n",
    "<i>* Each of these files contains an identification string to link them together and with a specific acquisition</i>"
   ]
  },
  {
   "cell_type": "code",
   "execution_count": null,
   "metadata": {},
   "outputs": [],
   "source": [
    "hsd_link.stop_log(0)\n",
    "hsd_link.save_json_device_file(0)\n",
    "hsd_link.save_json_acq_info_file(0)"
   ]
  }
 ],
 "metadata": {
  "interpreter": {
   "hash": "f39de2a8f528efb1892582061aeb4a23890266a1652fa965394c610d6bc928c5"
  },
  "kernelspec": {
   "display_name": "Python 3.9.5 64-bit ('.venv': venv)",
   "name": "python3"
  },
  "language_info": {
   "codemirror_mode": {
    "name": "ipython",
    "version": 3
   },
   "file_extension": ".py",
   "mimetype": "text/x-python",
   "name": "python",
   "nbconvert_exporter": "python",
   "pygments_lexer": "ipython3",
   "version": "3.9.5"
  }
 },
 "nbformat": 4,
 "nbformat_minor": 2
}
