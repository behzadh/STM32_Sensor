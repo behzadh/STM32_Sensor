{
 "cells": [
  {
   "cell_type": "markdown",
   "metadata": {},
   "source": [
    "# How to use HSDPython_SDK HSD_utils module - \\[Data format conversion Features\\]\n",
    "---\n",
    "<br>\n",
    "<p>Import HSDatalog and HSDatalogConverter modules</p>"
   ]
  },
  {
   "cell_type": "code",
   "execution_count": null,
   "metadata": {},
   "outputs": [],
   "source": [
    "from HSD_utils.converters import HSDatalogConverter\n",
    "from HSD.HSDatalog import HSDatalog"
   ]
  },
  {
   "cell_type": "markdown",
   "metadata": {},
   "source": [
    "HSDatalog will be only used to extract Pandas dataframes in a simple way (extracting them from an HSDatalog acquisition folder), as shown in the [nb_hsdatalog_core.ipynb] notebook."
   ]
  },
  {
   "cell_type": "code",
   "execution_count": null,
   "metadata": {},
   "outputs": [],
   "source": [
    "acq_folder = \"..\\\\STWIN_acquisition_examples\\\\STWIN_00002\"\n",
    "hsd = HSDatalog(acquisition_folder=acq_folder)\n",
    "sensor_name = \"IIS3DWB\"\n",
    "sensor_type = \"ACC\"\n",
    "dataframe = hsd.get_dataframe(sensor_name, sensor_type)\n",
    "print(dataframe)"
   ]
  },
  {
   "cell_type": "markdown",
   "metadata": {},
   "source": [
    "# Data Conversion\n",
    "---\n",
    "<p>The HSDatalogConverter module works independently from the core module, as long as the data to be converted are Pandas DataFrames.</p>\n",
    "Starting from a DataFrame it is possible to convert the data of an acquisition in the following formats:\n",
    "<ul>\n",
    "<li> CSV, TSV\n",
    "<li> Cartesiam format\n",
    "<li> ST UNICO format\n",
    "<li> WAV (Only for Microphones)\n",
    "</ul>\n",
    "To access the conversion features, we have to:\n",
    "<ul>\n",
    "<li> Import the HSD_utils.converters module (already done in the first code cell).\n",
    "<li> choose a folder to save the conversion output files\n",
    "</ul>\n"
   ]
  },
  {
   "cell_type": "code",
   "execution_count": null,
   "metadata": {},
   "outputs": [],
   "source": [
    "from HSD_utils.converters import HSDatalogConverter\n",
    "import os\n",
    "\n",
    "output_folder = \"..\\\\STWIN_acquisition_examples\\\\STWIN_00002\\\\exported_data_folder\"\n",
    "if not os.path.exists(output_folder):\n",
    "    os.makedirs(output_folder)"
   ]
  },
  {
   "cell_type": "markdown",
   "metadata": {},
   "source": [
    "## CSV, TSV Conversion"
   ]
  },
  {
   "cell_type": "code",
   "execution_count": null,
   "metadata": {},
   "outputs": [],
   "source": [
    "sensor_name = \"HTS221\"\n",
    "sensor_type = \"TEMP\"\n",
    "dataframe = hsd.get_dataframe(sensor_name, sensor_type)\n",
    "\n",
    "exported_sensor_path = os.path.join(output_folder,sensor_name)\n",
    "\n",
    "print(\"CSV Conversion Started\")\n",
    "HSDatalogConverter.to_csv(dataframe, exported_sensor_path)\n",
    "print(\"CSV Conversion Ended\")\n",
    "print(\"TSV Conversion Started\")\n",
    "HSDatalogConverter.to_tsv(dataframe, exported_sensor_path)\n",
    "print(\"TSV Conversion Ended\")"
   ]
  },
  {
   "cell_type": "markdown",
   "metadata": {},
   "source": [
    "## Cartesiam format Conversion"
   ]
  },
  {
   "cell_type": "code",
   "execution_count": null,
   "metadata": {},
   "outputs": [],
   "source": [
    "sensor_name = \"IIS3DWB\"\n",
    "sensor_type = \"ACC\"\n",
    "dataframe = hsd.get_dataframe(sensor_name, sensor_type)\n",
    "\n",
    "HSDatalogConverter.to_cartesiam_format(output_folder, sensor_name, dataframe, signal_length = 1000, signal_increment = 750)"
   ]
  },
  {
   "cell_type": "markdown",
   "metadata": {},
   "source": [
    "## ST UNICO format Conversion\n",
    "Available outpuf formats currently accepted in input by Unico GUI: txt (default), csv, tsv. \n",
    "- Unlabeled acquisition. Even if present, the tag data in the acquisition is not used"
   ]
  },
  {
   "cell_type": "code",
   "execution_count": null,
   "metadata": {},
   "outputs": [],
   "source": [
    "hsd_dfs = []\n",
    "sensor_name = \"ISM330DHCX\"\n",
    "sensor_type = \"GYRO\"\n",
    "hsd_dfs.append(hsd.get_dataframe(sensor_name, sensor_type))\n",
    "\n",
    "HSDatalogConverter.to_unico(output_folder, sensor_name, hsd_dfs, out_format = \"csv\")"
   ]
  },
  {
   "cell_type": "markdown",
   "metadata": {},
   "source": [
    "- Labeled Acquisition. If available, the tag data are read and used to split the converted files"
   ]
  },
  {
   "cell_type": "code",
   "execution_count": null,
   "metadata": {},
   "outputs": [],
   "source": [
    "hsd_dfs = []\n",
    "sensor_name = \"ISM330DHCX\"\n",
    "sensor_type = \"GYRO\"\n",
    "hsd_dfs.append(hsd.get_dataframe(sensor_name, sensor_type, labeled = True))\n",
    "\n",
    "data_tags = hsd.get_data_stream_tags(sensor_name, sensor_type)\n",
    "\n",
    "HSDatalogConverter.to_unico(output_folder, sensor_name, hsd_dfs, data_tags, \"csv\")"
   ]
  },
  {
   "cell_type": "markdown",
   "metadata": {},
   "source": [
    "## WAV Conversion\n",
    "- single shot conversion"
   ]
  },
  {
   "cell_type": "code",
   "execution_count": null,
   "metadata": {},
   "outputs": [],
   "source": [
    "import numpy as np\n",
    "from IPython.display import Audio\n",
    "\n",
    "acq_folder = \"..\\\\STWIN_acquisition_examples\\\\STWIN_20210205_15_47_16\"\n",
    "hsd = HSDatalog(acquisition_folder=acq_folder)\n",
    "output_folder = \"..\\\\STWIN_acquisition_examples\\\\STWIN_20210205_15_47_16\\\\exported_data_folder\"\n",
    "if not os.path.exists(output_folder):\n",
    "    os.makedirs(output_folder)\n",
    "\n",
    "sensor_name = \"IMP23ABSU\"\n",
    "sensor = hsd.get_sensor(sensor_name)\n",
    "odr = sensor.sensor_status.sub_sensor_status[0].odr\n",
    "print(\"ODR: {}\".format(odr))\n",
    "wav_file_name = os.path.join(output_folder, \"{}_MIC.wav\".format(sensor.name))\n",
    "audio_data = hsd.get_data_and_timestamps(sensor_name,'MIC')[0]\n",
    "pcm_data = audio_data.astype(np.int16)\n",
    "HSDatalogConverter.to_wav(pcm_data,wav_file_name,odr)\n",
    "Audio(wav_file_name)"
   ]
  },
  {
   "cell_type": "markdown",
   "metadata": {},
   "source": [
    "- Batch processing (useful for large files)"
   ]
  },
  {
   "cell_type": "code",
   "execution_count": null,
   "metadata": {},
   "outputs": [],
   "source": [
    "import numpy as np\n",
    "from IPython.display import Audio\n",
    "\n",
    "sensor_name = \"IMP34DT05\"\n",
    "sensor = hsd.get_sensor(sensor_name)\n",
    "odr = sensor.sensor_status.sub_sensor_status[0].odr\n",
    "print(\"ODR: {}\".format(odr))\n",
    "wav_file_name = os.path.join(output_folder, \"{}_MIC.wav\".format(sensor.name))\n",
    "wav_file = HSDatalogConverter.wav_create(wav_file_name, odr)\n",
    "\n",
    "chunkSize = 10000000\n",
    "isLastChunk = False\n",
    "sample_offset = 0\n",
    "while isLastChunk == 0:\n",
    "    data = hsd.get_data_and_timestamps(sensor.name, \"MIC\", sample_start = sample_offset, sample_end = sample_offset+chunkSize, raw_flag = True)[0]  \n",
    "    pcm_data = data.astype(np.int16)\n",
    "    if len(data) < chunkSize:\n",
    "        isLastChunk = 1\n",
    "    else:\n",
    "        sample_offset = sample_offset + chunkSize\n",
    "    HSDatalogConverter.wav_append(wav_file,pcm_data)\n",
    "HSDatalogConverter.wav_close(wav_file)\n",
    "Audio(wav_file_name)"
   ]
  }
 ],
 "metadata": {
  "interpreter": {
   "hash": "f39de2a8f528efb1892582061aeb4a23890266a1652fa965394c610d6bc928c5"
  },
  "kernelspec": {
   "display_name": "Python 3.9.5 64-bit ('.venv': venv)",
   "name": "python3"
  },
  "language_info": {
   "codemirror_mode": {
    "name": "ipython",
    "version": 3
   },
   "file_extension": ".py",
   "mimetype": "text/x-python",
   "name": "python",
   "nbconvert_exporter": "python",
   "pygments_lexer": "ipython3",
   "version": "3.9.5"
  },
  "orig_nbformat": 2
 },
 "nbformat": 4,
 "nbformat_minor": 2
}
